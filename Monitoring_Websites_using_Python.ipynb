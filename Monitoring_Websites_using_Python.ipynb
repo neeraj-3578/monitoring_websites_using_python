{
  "nbformat": 4,
  "nbformat_minor": 0,
  "metadata": {
    "colab": {
      "provenance": []
    },
    "kernelspec": {
      "name": "python3",
      "display_name": "Python 3"
    },
    "language_info": {
      "name": "python"
    }
  },
  "cells": [
    {
      "cell_type": "code",
      "execution_count": null,
      "metadata": {
        "colab": {
          "base_uri": "https://localhost:8080/"
        },
        "id": "4r5y1agI5qzm",
        "outputId": "9921b777-4d89-496b-a80d-58c31b3613a8"
      },
      "outputs": [
        {
          "output_type": "stream",
          "name": "stdout",
          "text": [
            "                websites list            status_code\n",
            "0     https://www.google.com/         site is ok 200\n",
            "1  https://www.wikipedia.org/         site is ok 200\n",
            "2    https://www.youtube.com/         site is ok 200\n",
            "3         https://al;dlk.com/  site is not available\n",
            "4        https://slkhdla.com/  site is not available\n"
          ]
        }
      ],
      "source": [
        "import requests\n",
        "import pandas as pd\n",
        "\n",
        "df = pd.read_excel(\"/content/website.xlsx\")\n",
        "\n",
        "for index,websites in df.iterrows():\n",
        "  # print(index, websites[\"websites list\"])\n",
        "  try:\n",
        "    response = requests.get(websites[\"websites list\"])\n",
        "    # print(response.status_code)\n",
        "    df.at[index, \"status_code\"] = \"site is ok {}\".format(response.status_code)\n",
        "  except:\n",
        "    df.at[index, \"status_code\"] = \"site is not available\"\n",
        "    # print(\"website {} is not available\".format(websites[\"websites list\"]))\n",
        "\n",
        "print(df)\n",
        "\n",
        "# response = requests.get(\"\")\n",
        "# print(response.status_code)"
      ]
    },
    {
      "cell_type": "code",
      "source": [
        "import requests\n",
        "import pandas as pd\n",
        "\n",
        "d = pd.read_excel(\"/content/website.xlsx\")\n",
        "\n",
        "for index, web in d.iterrows():\n",
        "  # print(index, web[\"websites list\"])\n",
        "  try:\n",
        "    response = requests.get(web[\"websites list\"])\n",
        "    d.at[index,\"status_code\"] = \"site is ok {}\".format(response.status_code)\n",
        "  except:\n",
        "    d.at[index,\"status_code\"] = \"site is not available\"\n",
        "print(d)"
      ],
      "metadata": {
        "colab": {
          "base_uri": "https://localhost:8080/"
        },
        "id": "QLr4ae8z9-AM",
        "outputId": "701f6c23-abe9-4a59-e042-03ea65dfd39b"
      },
      "execution_count": null,
      "outputs": [
        {
          "output_type": "stream",
          "name": "stdout",
          "text": [
            "                websites list            status_code\n",
            "0     https://www.google.com/         site is ok 200\n",
            "1  https://www.wikipedia.org/         site is ok 200\n",
            "2    https://www.youtube.com/         site is ok 200\n",
            "3         https://al;dlk.com/  site is not available\n",
            "4        https://slkhdla.com/  site is not available\n"
          ]
        }
      ]
    }
  ]
}